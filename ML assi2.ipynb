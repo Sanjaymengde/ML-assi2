{
 "cells": [
  {
   "cell_type": "markdown",
   "id": "b7066363-52d3-426c-8375-7fd118f540c2",
   "metadata": {},
   "source": [
    "Q1: Define overfitting and underfitting in machine learning. What are the consequences of each, and how \n",
    "can they be mitigated?"
   ]
  },
  {
   "cell_type": "markdown",
   "id": "bfeb795d-b7b2-40b1-b4fd-e9d32c9ed0bc",
   "metadata": {},
   "source": [
    "UNDERSHIFING = Underfit models experience high bias—they give inaccurate results for both the training data and test set."
   ]
  },
  {
   "cell_type": "markdown",
   "id": "985d109b-ff8f-4737-af23-e5cb1005c185",
   "metadata": {},
   "source": [
    "OVERSHIFING = overfit models experience high variance—they give accurate results for the training set but not for the test set."
   ]
  },
  {
   "cell_type": "markdown",
   "id": "f2dcf168-fed0-4b7e-9cfc-9fbcb82e6c0a",
   "metadata": {},
   "source": [
    "Underfit models experience high bias—they give inaccurate results for both the training data and test set. On the other hand, overfit models experience high variance—they give accurate results for the training set but not for the test set."
   ]
  },
  {
   "cell_type": "markdown",
   "id": "3063d7d8-ba72-4e2c-966c-e24b4f805ff2",
   "metadata": {},
   "source": [
    "Q2: How can we reduce overfitting? Explain in brief."
   ]
  },
  {
   "cell_type": "markdown",
   "id": "e0220590-9703-40d0-952e-57774929554c",
   "metadata": {},
   "source": [
    "You can prevent overfitting by diversifying and scaling your training data set or using some other data science strategies, like those given below. Early stopping pauses the training phase before the machine learning model learns the noise in the data."
   ]
  },
  {
   "cell_type": "markdown",
   "id": "7ff14422-a01e-4f07-8f55-d35e069e11c3",
   "metadata": {},
   "source": [
    "Q3: Explain underfitting. List scenarios where underfitting can occur in ML"
   ]
  },
  {
   "cell_type": "markdown",
   "id": "cf881645-3a6a-48ac-bb67-063e996c03a5",
   "metadata": {},
   "source": [
    "Underfitting is a scenario in data science where a data model is unable to capture the relationship between the input and output variables accurately, generating a high error rate on both the training set and unseen data."
   ]
  },
  {
   "cell_type": "markdown",
   "id": "a6c8c997-bcd1-4ebd-a81c-af6f0216631d",
   "metadata": {},
   "source": [
    "Q4: Explain the bias-variance tradeoff in machine learning. What is the relationship between bias and \n",
    "variance, and how do they affect model performance"
   ]
  },
  {
   "cell_type": "markdown",
   "id": "841452c4-f35b-4361-93ca-5a930045c7e5",
   "metadata": {},
   "source": [
    "If the algorithm is too simple (hypothesis with linear equation) then it may be on high bias and low variance condition and thus is error-prone. If algorithms fit too complex (hypothesis with high degree equation) then it may be on high variance and low bias. "
   ]
  },
  {
   "cell_type": "markdown",
   "id": "0af7d29b-ac60-4fc9-96c2-8dce38836383",
   "metadata": {},
   "source": [
    "Bias and variance are inversely connected. It is impossible to have an ML model with a low bias and a low variance. When a data engineer modifies the ML algorithm to better fit a given data set, it will lead to low bias—but it will increase variance."
   ]
  },
  {
   "cell_type": "markdown",
   "id": "137fe258-da59-47e1-96c2-b46b1d04e958",
   "metadata": {},
   "source": [
    "Q5: Discuss some common methods for detecting overfitting and underfitting in machine learning models. \n",
    "How can you determine whether your model is overfitting or underfitting"
   ]
  },
  {
   "cell_type": "markdown",
   "id": "6e78eeea-46a9-4396-b8d6-ee7ae4e4d66a",
   "metadata": {},
   "source": [
    "Underfitting the training data when the model performs poorly on the training data."
   ]
  },
  {
   "cell_type": "markdown",
   "id": "14e7d7ac-3d09-4ef9-a3f5-ddc55312f8f8",
   "metadata": {},
   "source": [
    " overfitting your training data when you see that the model performs well on the training data but does not perform well on the evaluation data."
   ]
  },
  {
   "cell_type": "markdown",
   "id": "ac201482-8878-4d03-abd4-7a46f06f9297",
   "metadata": {},
   "source": [
    "How can you determine whether your model is overfitting or underfitting"
   ]
  },
  {
   "cell_type": "markdown",
   "id": "c91b4e87-aa4c-40be-9175-9a11b2e606fe",
   "metadata": {},
   "source": [
    "Q6: Compare and contrast bias and variance in machine learning. What are some examples of high bias \n",
    "and high variance models, and how do they differ in terms of their performance"
   ]
  },
  {
   "cell_type": "markdown",
   "id": "fe886cbc-08d5-4677-baec-2eeaffed2bf4",
   "metadata": {},
   "source": [
    "Bias occurs in a machine learning model when an algorithm is used but does not fit properly. Variance is the amount of variation the target function estimation will change if different training data is used."
   ]
  },
  {
   "cell_type": "markdown",
   "id": "796faafd-7687-4feb-be41-f6b5a715e2ec",
   "metadata": {},
   "source": [
    "Linear regression,Bagging,Decision tree."
   ]
  },
  {
   "cell_type": "markdown",
   "id": "2a768eb4-133a-4907-8469-4cd3b4504ca6",
   "metadata": {},
   "source": [
    "Q7: What is regularization in machine learning, and how can it be used to prevent overfitting? Describe \n",
    "some common regularization techniques and how they work."
   ]
  },
  {
   "cell_type": "markdown",
   "id": "8ebdc3c2-6044-475c-88ff-d2f582ef6cff",
   "metadata": {},
   "source": [
    "Regularization refers to techniques that are used to calibrate machine learning models in order to minimize the adjusted loss function and prevent overfitting or underfitting."
   ]
  },
  {
   "cell_type": "code",
   "execution_count": null,
   "id": "c1d17467-069e-4bf5-ae34-4c08f597afdd",
   "metadata": {},
   "outputs": [],
   "source": []
  }
 ],
 "metadata": {
  "kernelspec": {
   "display_name": "Python 3 (ipykernel)",
   "language": "python",
   "name": "python3"
  },
  "language_info": {
   "codemirror_mode": {
    "name": "ipython",
    "version": 3
   },
   "file_extension": ".py",
   "mimetype": "text/x-python",
   "name": "python",
   "nbconvert_exporter": "python",
   "pygments_lexer": "ipython3",
   "version": "3.10.8"
  }
 },
 "nbformat": 4,
 "nbformat_minor": 5
}
